{
 "cells": [
  {
   "cell_type": "markdown",
   "id": "753808e6",
   "metadata": {},
   "source": [
    "# Ejercicios"
   ]
  },
  {
   "cell_type": "markdown",
   "id": "a6bb5ad8",
   "metadata": {},
   "source": [
    "## Objetos por comprensión"
   ]
  },
  {
   "cell_type": "markdown",
   "id": "b6e13049",
   "metadata": {},
   "source": [
    "1. Crear una lista que contenga todos los números del 1 al 10"
   ]
  },
  {
   "cell_type": "code",
   "execution_count": 1,
   "id": "4aec70ae",
   "metadata": {},
   "outputs": [
    {
     "data": {
      "text/plain": [
       "[1, 2, 3, 4, 5, 6, 7, 8, 9, 10]"
      ]
     },
     "execution_count": 1,
     "metadata": {},
     "output_type": "execute_result"
    }
   ],
   "source": [
    "[i for i in range(1,11)]"
   ]
  },
  {
   "cell_type": "markdown",
   "id": "dc4d0406",
   "metadata": {},
   "source": [
    "2. Crea una lista que contenga todos los números pares del 1 al 50"
   ]
  },
  {
   "cell_type": "code",
   "execution_count": 2,
   "id": "ae65dd31",
   "metadata": {},
   "outputs": [
    {
     "data": {
      "text/plain": [
       "[2,\n",
       " 4,\n",
       " 6,\n",
       " 8,\n",
       " 10,\n",
       " 12,\n",
       " 14,\n",
       " 16,\n",
       " 18,\n",
       " 20,\n",
       " 22,\n",
       " 24,\n",
       " 26,\n",
       " 28,\n",
       " 30,\n",
       " 32,\n",
       " 34,\n",
       " 36,\n",
       " 38,\n",
       " 40,\n",
       " 42,\n",
       " 44,\n",
       " 46,\n",
       " 48,\n",
       " 50]"
      ]
     },
     "execution_count": 2,
     "metadata": {},
     "output_type": "execute_result"
    }
   ],
   "source": [
    "[i for i in range(1,51) if i % 2 == 0]"
   ]
  },
  {
   "cell_type": "markdown",
   "id": "2558a529-0dfd-4476-b4ff-687d8b6fc832",
   "metadata": {},
   "source": [
    "### Extras"
   ]
  },
  {
   "cell_type": "markdown",
   "id": "81de6e6c",
   "metadata": {},
   "source": [
    "3. Dada la siguiente lista, devuelve una lista con todas las palabras dentro de la matriz."
   ]
  },
  {
   "cell_type": "code",
   "execution_count": 19,
   "id": "48c36e16",
   "metadata": {},
   "outputs": [],
   "source": [
    "matriz = [[\"primera\", \"lista\"], [\"segunda\",\"lista\"], [\"tercera\", \"lista\"]]"
   ]
  },
  {
   "cell_type": "code",
   "execution_count": 20,
   "id": "6c29818d",
   "metadata": {},
   "outputs": [
    {
     "data": {
      "text/plain": [
       "['primera', 'lista', 'segunda', 'lista', 'tercera', 'lista']"
      ]
     },
     "execution_count": 20,
     "metadata": {},
     "output_type": "execute_result"
    }
   ],
   "source": [
    "[i for lista in matriz for i in lista]"
   ]
  },
  {
   "cell_type": "markdown",
   "id": "d058b5f8",
   "metadata": {},
   "source": [
    "4. Dada la siguiente lista, devuelve una lista con todas las palabras dentro de la matriz si es que la palabra tiene más de 4 caracteres."
   ]
  },
  {
   "cell_type": "code",
   "execution_count": 21,
   "id": "4912c42a",
   "metadata": {},
   "outputs": [],
   "source": [
    "matriz = [[\"perro\", \"pera\"], [\"gato\",\"manzana\"], [\"tortuga\", \"limon\"]]"
   ]
  },
  {
   "cell_type": "code",
   "execution_count": 22,
   "id": "666336db",
   "metadata": {},
   "outputs": [
    {
     "data": {
      "text/plain": [
       "['perro', 'manzana', 'tortuga', 'limon']"
      ]
     },
     "execution_count": 22,
     "metadata": {},
     "output_type": "execute_result"
    }
   ],
   "source": [
    "[i for lista in matriz for i in lista if len(i) > 4]"
   ]
  },
  {
   "cell_type": "markdown",
   "id": "aabd71b2",
   "metadata": {},
   "source": [
    "5. Crear un diccionario que cuente la cantidad de veces que aparece cada palabra en la lista"
   ]
  },
  {
   "cell_type": "code",
   "execution_count": 24,
   "id": "c8d7a9ae",
   "metadata": {},
   "outputs": [],
   "source": [
    "lista = [\"manzana\", \"naranja\", \"pera\", \"banana\", \"naranja\", \"pera\", \"banana\", \"manzana\", \"naranja\", \"pera\", \"manzana\", \"naranja\"]"
   ]
  },
  {
   "cell_type": "code",
   "execution_count": 25,
   "id": "d609e28f",
   "metadata": {},
   "outputs": [
    {
     "data": {
      "text/plain": [
       "{'manzana': 3, 'naranja': 4, 'pera': 3, 'banana': 2}"
      ]
     },
     "execution_count": 25,
     "metadata": {},
     "output_type": "execute_result"
    }
   ],
   "source": [
    "{i: lista.count(i) for i in lista}"
   ]
  },
  {
   "cell_type": "markdown",
   "id": "75522c3b",
   "metadata": {},
   "source": [
    "## Funciones Lambda"
   ]
  },
  {
   "cell_type": "markdown",
   "id": "b0a0c8bf",
   "metadata": {},
   "source": [
    "1. Crear una función lambda que compare 2 números y devuelva el mayor de los dos"
   ]
  },
  {
   "cell_type": "code",
   "execution_count": 3,
   "id": "95abdce9",
   "metadata": {},
   "outputs": [
    {
     "data": {
      "text/plain": [
       "7"
      ]
     },
     "execution_count": 3,
     "metadata": {},
     "output_type": "execute_result"
    }
   ],
   "source": [
    "comparador = lambda a, b: a if a>b else b\n",
    "comparador(6,7)"
   ]
  },
  {
   "cell_type": "markdown",
   "id": "6759a770",
   "metadata": {},
   "source": [
    "2. Crear una función lambda que haga un zip entre dos tuplas"
   ]
  },
  {
   "cell_type": "code",
   "execution_count": 5,
   "id": "be0c8d2f",
   "metadata": {},
   "outputs": [
    {
     "name": "stdout",
     "output_type": "stream",
     "text": [
      "(1, 3)\n",
      "(2, 4)\n"
     ]
    }
   ],
   "source": [
    "zippeador = lambda a,b: zip(a,b)\n",
    "items = zippeador((1,2),(3,4))\n",
    "for i in items:\n",
    "    print(i)"
   ]
  },
  {
   "cell_type": "markdown",
   "id": "5a87b186-3ce8-48f6-ad13-bb3943534bda",
   "metadata": {},
   "source": [
    "### Extras"
   ]
  },
  {
   "cell_type": "markdown",
   "id": "ce08ce78",
   "metadata": {},
   "source": [
    "3. Crear una función lambda que convierta temperatura en celsius a fahrenheit (°F = (°C * 9/5) + 32)"
   ]
  },
  {
   "cell_type": "code",
   "execution_count": 30,
   "id": "d9365b0c",
   "metadata": {},
   "outputs": [
    {
     "data": {
      "text/plain": [
       "77.0"
      ]
     },
     "execution_count": 30,
     "metadata": {},
     "output_type": "execute_result"
    }
   ],
   "source": [
    "temperatura_f = lambda x: (x * 9/5)+32\n",
    "temperatura_f(25)"
   ]
  },
  {
   "cell_type": "markdown",
   "id": "a94f2e1e",
   "metadata": {},
   "source": [
    "## Función Filter"
   ]
  },
  {
   "cell_type": "markdown",
   "id": "38accfff",
   "metadata": {},
   "source": [
    "1. Filtrar números pares utilizando filter y función lambda"
   ]
  },
  {
   "cell_type": "code",
   "execution_count": 6,
   "id": "66181c9b",
   "metadata": {},
   "outputs": [],
   "source": [
    "numeros = [1, 2, 3, 4, 5, 6, 7, 8, 9, 10]"
   ]
  },
  {
   "cell_type": "code",
   "execution_count": 7,
   "id": "b8beff88",
   "metadata": {},
   "outputs": [
    {
     "data": {
      "text/plain": [
       "[2, 4, 6, 8, 10]"
      ]
     },
     "execution_count": 7,
     "metadata": {},
     "output_type": "execute_result"
    }
   ],
   "source": [
    "list(\n",
    "    filter(\n",
    "        lambda x: x % 2 == 0,\n",
    "        numeros\n",
    "    )\n",
    ")"
   ]
  },
  {
   "cell_type": "markdown",
   "id": "43c71d56",
   "metadata": {},
   "source": [
    "2. Filtrar palabras con longitud mayor a 5 utilizando filter y lambda"
   ]
  },
  {
   "cell_type": "code",
   "execution_count": 8,
   "id": "aa148554",
   "metadata": {},
   "outputs": [],
   "source": [
    "palabras = [\"manzana\", \"naranja\", \"pera\", \"uva\", \"kiwi\"]"
   ]
  },
  {
   "cell_type": "code",
   "execution_count": 10,
   "id": "7ca99f75",
   "metadata": {},
   "outputs": [
    {
     "data": {
      "text/plain": [
       "['manzana', 'naranja']"
      ]
     },
     "execution_count": 10,
     "metadata": {},
     "output_type": "execute_result"
    }
   ],
   "source": [
    "list(\n",
    "    filter(\n",
    "        lambda x: len(x) > 5,\n",
    "        palabras\n",
    "    )\n",
    ")"
   ]
  },
  {
   "cell_type": "markdown",
   "id": "b0893286-5c32-4e55-99bf-ac0152ba4482",
   "metadata": {},
   "source": [
    "### Extras"
   ]
  },
  {
   "cell_type": "markdown",
   "id": "ff17741c",
   "metadata": {},
   "source": [
    "3. Filtrar números primos utilizando filter y una función"
   ]
  },
  {
   "cell_type": "code",
   "execution_count": 31,
   "id": "da957f9c",
   "metadata": {},
   "outputs": [],
   "source": [
    "numeros = list(range(40))"
   ]
  },
  {
   "cell_type": "code",
   "execution_count": 33,
   "id": "940bf2b5",
   "metadata": {},
   "outputs": [],
   "source": [
    "def primos (x):\n",
    "    for i in range(2,x):\n",
    "        if x % i == 0:\n",
    "            return False\n",
    "    return True"
   ]
  },
  {
   "cell_type": "code",
   "execution_count": 35,
   "id": "41f73823-325a-4cb9-ac80-3f9d7ca1235b",
   "metadata": {},
   "outputs": [
    {
     "data": {
      "text/plain": [
       "True"
      ]
     },
     "execution_count": 35,
     "metadata": {},
     "output_type": "execute_result"
    }
   ],
   "source": [
    "primos(31)"
   ]
  },
  {
   "cell_type": "code",
   "execution_count": 36,
   "id": "d7f114b9-0a46-4501-9d58-508242b4c7c5",
   "metadata": {
    "scrolled": true
   },
   "outputs": [
    {
     "data": {
      "text/plain": [
       "[0, 1, 2, 3, 5, 7, 11, 13, 17, 19, 23, 29, 31, 37]"
      ]
     },
     "execution_count": 36,
     "metadata": {},
     "output_type": "execute_result"
    }
   ],
   "source": [
    "list(\n",
    "    filter(\n",
    "        primos,\n",
    "        numeros\n",
    "    )\n",
    ")"
   ]
  },
  {
   "cell_type": "markdown",
   "id": "093d2ad8",
   "metadata": {},
   "source": [
    "4. Filtrar palabras que comienzan con 'j' utilizando filter y función lambda"
   ]
  },
  {
   "cell_type": "code",
   "execution_count": 41,
   "id": "6bc51770",
   "metadata": {},
   "outputs": [],
   "source": [
    "palabras = [\"python\", \"java\", \"csharp\", \"javascript\", \"ruby\"]"
   ]
  },
  {
   "cell_type": "code",
   "execution_count": 44,
   "id": "c73e7fee",
   "metadata": {},
   "outputs": [],
   "source": [
    "start_j = lambda x: x[0].lower() == \"j\""
   ]
  },
  {
   "cell_type": "code",
   "execution_count": 45,
   "id": "007ba137-49e7-433b-89c5-8e240129b49a",
   "metadata": {},
   "outputs": [
    {
     "data": {
      "text/plain": [
       "['java', 'javascript']"
      ]
     },
     "execution_count": 45,
     "metadata": {},
     "output_type": "execute_result"
    }
   ],
   "source": [
    "list(\n",
    "    filter(\n",
    "        start_j,\n",
    "        palabras\n",
    "    )\n",
    ")"
   ]
  },
  {
   "cell_type": "markdown",
   "id": "9430f2a3",
   "metadata": {},
   "source": [
    "5. Filtrar nombres que contienen la letra 'a' utilizando filter y lambda"
   ]
  },
  {
   "cell_type": "code",
   "execution_count": 27,
   "id": "c4177b72",
   "metadata": {},
   "outputs": [],
   "source": [
    "nombres = [\"Juan\", \"Ana\", \"Carlos\", \"Elena\", \"Pedro\"]"
   ]
  },
  {
   "cell_type": "code",
   "execution_count": 28,
   "id": "fd66665d",
   "metadata": {},
   "outputs": [
    {
     "data": {
      "text/plain": [
       "['Juan', 'Ana', 'Carlos', 'Elena']"
      ]
     },
     "execution_count": 28,
     "metadata": {},
     "output_type": "execute_result"
    }
   ],
   "source": [
    "list(\n",
    "    filter(\n",
    "        lambda nombre: 'a' in nombre.lower(), \n",
    "        nombres\n",
    "    )\n",
    ")"
   ]
  },
  {
   "cell_type": "markdown",
   "id": "84a475cd",
   "metadata": {},
   "source": [
    "## Función Sorted"
   ]
  },
  {
   "cell_type": "markdown",
   "id": "0023d570",
   "metadata": {},
   "source": [
    "1. Utilizar sorted para ordenar la lista de números de forma ascendente"
   ]
  },
  {
   "cell_type": "code",
   "execution_count": 11,
   "id": "d1c63cec",
   "metadata": {},
   "outputs": [],
   "source": [
    "numeros = [5, 2, 8, 1, 7]"
   ]
  },
  {
   "cell_type": "code",
   "execution_count": 12,
   "id": "66d21aac",
   "metadata": {},
   "outputs": [
    {
     "data": {
      "text/plain": [
       "[1, 2, 5, 7, 8]"
      ]
     },
     "execution_count": 12,
     "metadata": {},
     "output_type": "execute_result"
    }
   ],
   "source": [
    "sorted(numeros)"
   ]
  },
  {
   "cell_type": "markdown",
   "id": "28053f75",
   "metadata": {},
   "source": [
    "2. Utilizar sorted para ordenar la lista de números de forma descendente"
   ]
  },
  {
   "cell_type": "code",
   "execution_count": 14,
   "id": "bd37ee49",
   "metadata": {},
   "outputs": [],
   "source": [
    "numeros = [5, 2, 8, 1, 7]"
   ]
  },
  {
   "cell_type": "code",
   "execution_count": 15,
   "id": "fe84b82b",
   "metadata": {},
   "outputs": [
    {
     "data": {
      "text/plain": [
       "[8, 7, 5, 2, 1]"
      ]
     },
     "execution_count": 15,
     "metadata": {},
     "output_type": "execute_result"
    }
   ],
   "source": [
    "sorted(numeros, reverse=True)"
   ]
  },
  {
   "cell_type": "markdown",
   "id": "0c592475",
   "metadata": {},
   "source": [
    "3. Utilizar sorted para ordenar la lista de palabras por longitud"
   ]
  },
  {
   "cell_type": "code",
   "execution_count": 16,
   "id": "d368e473",
   "metadata": {},
   "outputs": [],
   "source": [
    "palabras = [\"manzana\", \"naranja\", \"pera\", \"uva\", \"kiwi\"]"
   ]
  },
  {
   "cell_type": "code",
   "execution_count": 18,
   "id": "5fdfdf9e",
   "metadata": {},
   "outputs": [
    {
     "data": {
      "text/plain": [
       "['uva', 'pera', 'kiwi', 'manzana', 'naranja']"
      ]
     },
     "execution_count": 18,
     "metadata": {},
     "output_type": "execute_result"
    }
   ],
   "source": [
    "sorted(palabras, key = len)"
   ]
  },
  {
   "cell_type": "markdown",
   "id": "58ace2a9-1edb-4ca0-8459-b21c77fd90f7",
   "metadata": {},
   "source": [
    "### Extras"
   ]
  },
  {
   "cell_type": "markdown",
   "id": "45cc3bf0",
   "metadata": {},
   "source": [
    "4. Utilizar sorted para ordenar la lista de tuplas por segundo elemento"
   ]
  },
  {
   "cell_type": "code",
   "execution_count": 44,
   "id": "dc80d4a5",
   "metadata": {},
   "outputs": [],
   "source": [
    "tuplas = [(1, 5), (3, 2), (2, 8), (4, 1)]"
   ]
  },
  {
   "cell_type": "code",
   "execution_count": 45,
   "id": "98332ba4",
   "metadata": {},
   "outputs": [
    {
     "data": {
      "text/plain": [
       "[(4, 1), (3, 2), (1, 5), (2, 8)]"
      ]
     },
     "execution_count": 45,
     "metadata": {},
     "output_type": "execute_result"
    }
   ],
   "source": [
    "sorted(tuplas, key=lambda x: x[1])"
   ]
  },
  {
   "cell_type": "markdown",
   "id": "1ebe5745",
   "metadata": {},
   "source": [
    "5. Utilizar sorted para ordenar la lista de diccionarios por la clave \"edad\""
   ]
  },
  {
   "cell_type": "code",
   "execution_count": 46,
   "id": "152336d7",
   "metadata": {},
   "outputs": [],
   "source": [
    "datos = [\n",
    "    {\"nombre\": \"Juan\", \"edad\": 25},\n",
    "    {\"nombre\": \"Ana\", \"edad\": 30},\n",
    "    {\"nombre\": \"Carlos\", \"edad\": 22}\n",
    "]"
   ]
  },
  {
   "cell_type": "code",
   "execution_count": 47,
   "id": "f560ddc7",
   "metadata": {},
   "outputs": [
    {
     "data": {
      "text/plain": [
       "[{'nombre': 'Carlos', 'edad': 22},\n",
       " {'nombre': 'Juan', 'edad': 25},\n",
       " {'nombre': 'Ana', 'edad': 30}]"
      ]
     },
     "execution_count": 47,
     "metadata": {},
     "output_type": "execute_result"
    }
   ],
   "source": [
    "sorted(datos, key=lambda x: x[\"edad\"])\n"
   ]
  },
  {
   "cell_type": "code",
   "execution_count": null,
   "id": "365caf1d",
   "metadata": {},
   "outputs": [],
   "source": []
  },
  {
   "cell_type": "code",
   "execution_count": null,
   "id": "641d7eed",
   "metadata": {},
   "outputs": [],
   "source": []
  }
 ],
 "metadata": {
  "kernelspec": {
   "display_name": "Python 3 (ipykernel)",
   "language": "python",
   "name": "python3"
  },
  "language_info": {
   "codemirror_mode": {
    "name": "ipython",
    "version": 3
   },
   "file_extension": ".py",
   "mimetype": "text/x-python",
   "name": "python",
   "nbconvert_exporter": "python",
   "pygments_lexer": "ipython3",
   "version": "3.11.7"
  }
 },
 "nbformat": 4,
 "nbformat_minor": 5
}
